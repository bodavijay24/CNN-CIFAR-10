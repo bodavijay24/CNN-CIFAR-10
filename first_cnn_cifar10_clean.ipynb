{
  "nbformat": 4,
  "nbformat_minor": 0,
  "metadata": {
    "colab": {
      "name": "Copy of week3_task1_first_cnn_cifar10_clean.ipynb",
      "version": "0.3.2",
      "provenance": [],
      "collapsed_sections": [],
      "include_colab_link": true
    },
    "kernelspec": {
      "name": "python3",
      "display_name": "Python 3"
    },
    "accelerator": "TPU"
  },
  "cells": [
    {
      "cell_type": "markdown",
      "metadata": {
        "id": "view-in-github",
        "colab_type": "text"
      },
      "source": [
        "<a href=\"https://colab.research.google.com/github/bodavijay24/CNN-CIFAR-10/blob/master/first_cnn_cifar10_clean.ipynb\" target=\"_parent\"><img src=\"https://colab.research.google.com/assets/colab-badge.svg\" alt=\"Open In Colab\"/></a>"
      ]
    },
    {
      "metadata": {
        "ExecuteTime": {
          "end_time": "2017-09-03T21:05:26.096298Z",
          "start_time": "2017-09-03T21:05:26.092498Z"
        },
        "id": "BZ0n55GTG93g",
        "colab_type": "text"
      },
      "cell_type": "markdown",
      "source": [
        "# Your first CNN on CIFAR-10\n",
        "\n",
        "In this task you will: \n",
        "* define your first CNN architecture for CIFAR-10 dataset\n",
        "* train it from scratch\n",
        "* visualize learnt filters\n",
        "\n",
        "CIFAR-10 dataset contains 32x32 color images from 10 classes: __airplane, automobile, bird, cat, deer, dog, frog, horse, ship, truck__:\n",
        "<img src=\"https://github.com/hse-aml/intro-to-dl/blob/master/week3/images/cifar10.jpg?raw=1\" style=\"width:80%\">"
      ]
    },
    {
      "metadata": {
        "id": "BVlyLimgIh_z",
        "colab_type": "code",
        "colab": {
          "base_uri": "https://localhost:8080/",
          "height": 391
        },
        "outputId": "8cc45412-4225-4227-fe24-e7c0e1a5bad3"
      },
      "cell_type": "code",
      "source": [
        "! shred -u setup_google_colab.py\n",
        "! wget https://raw.githubusercontent.com/hse-aml/intro-to-dl/master/setup_google_colab.py -O setup_google_colab.py\n",
        "import setup_google_colab\n",
        "# please, uncomment the week you're working on\n",
        "# setup_google_colab.setup_week1()\n",
        "# setup_google_colab.setup_week2()\n",
        "setup_google_colab.setup_week3()\n",
        "# setup_google_colab.setup_week4()\n",
        "# setup_google_colab.setup_week5()\n",
        "# setup_google_colab.setup_week6()\n"
      ],
      "execution_count": 2,
      "outputs": [
        {
          "output_type": "stream",
          "text": [
            "shred: setup_google_colab.py: failed to open for writing: No such file or directory\n",
            "--2019-03-06 17:52:13--  https://raw.githubusercontent.com/hse-aml/intro-to-dl/master/setup_google_colab.py\n",
            "Resolving raw.githubusercontent.com (raw.githubusercontent.com)... 151.101.0.133, 151.101.64.133, 151.101.128.133, ...\n",
            "Connecting to raw.githubusercontent.com (raw.githubusercontent.com)|151.101.0.133|:443... connected.\n",
            "HTTP request sent, awaiting response... 200 OK\n",
            "Length: 3792 (3.7K) [text/plain]\n",
            "Saving to: ‘setup_google_colab.py’\n",
            "\n",
            "setup_google_colab. 100%[===================>]   3.70K  --.-KB/s    in 0s      \n",
            "\n",
            "2019-03-06 17:52:13 (63.3 MB/s) - ‘setup_google_colab.py’ saved [3792/3792]\n",
            "\n",
            "**************************************************\n",
            "102flowers.tgz\n",
            "**************************************************\n",
            "imagelabels.mat\n",
            "**************************************************\n",
            "inception_v3_weights_tf_dim_ordering_tf_kernels_notop.h5\n",
            "**************************************************\n",
            "cifar-10-batches-py.tar.gz\n",
            "**************************************************\n",
            "mnist.npz\n"
          ],
          "name": "stdout"
        }
      ]
    },
    {
      "metadata": {
        "id": "W9hE2gKfG93l",
        "colab_type": "text"
      },
      "cell_type": "markdown",
      "source": [
        "# Import stuff"
      ]
    },
    {
      "metadata": {
        "ExecuteTime": {
          "end_time": "2017-10-29T18:51:38.014629Z",
          "start_time": "2017-10-29T18:51:37.876670Z"
        },
        "id": "pk8CpbP1G93n",
        "colab_type": "code",
        "colab": {}
      },
      "cell_type": "code",
      "source": [
        "import sys\n",
        "sys.path.append(\"..\")\n",
        "import grading\n",
        "import download_utils"
      ],
      "execution_count": 0,
      "outputs": []
    },
    {
      "metadata": {
        "id": "d3Xn9wjwG93r",
        "colab_type": "code",
        "colab": {}
      },
      "cell_type": "code",
      "source": [
        "# !!! remember to clear session/graph if you rebuild your graph to avoid out-of-memory errors !!!"
      ],
      "execution_count": 0,
      "outputs": []
    },
    {
      "metadata": {
        "ExecuteTime": {
          "end_time": "2017-10-29T18:51:39.175876Z",
          "start_time": "2017-10-29T18:51:39.170539Z"
        },
        "id": "kaidKAevG93v",
        "colab_type": "code",
        "colab": {}
      },
      "cell_type": "code",
      "source": [
        "download_utils.link_all_keras_resources()"
      ],
      "execution_count": 0,
      "outputs": []
    },
    {
      "metadata": {
        "ExecuteTime": {
          "end_time": "2017-10-29T18:51:58.907479Z",
          "start_time": "2017-10-29T18:51:42.206537Z"
        },
        "scrolled": true,
        "id": "WlRn4mWWG93y",
        "colab_type": "code",
        "colab": {
          "base_uri": "https://localhost:8080/",
          "height": 68
        },
        "outputId": "01485e3d-22d0-4190-8b46-aa199b37fb2e"
      },
      "cell_type": "code",
      "source": [
        "import tensorflow as tf\n",
        "import keras\n",
        "from keras import backend as K\n",
        "import numpy as np\n",
        "%matplotlib inline\n",
        "import matplotlib.pyplot as plt\n",
        "print(tf.__version__)\n",
        "print(keras.__version__)\n",
        "import grading_utils\n",
        "import keras_utils\n",
        "from keras_utils import reset_tf_session"
      ],
      "execution_count": 5,
      "outputs": [
        {
          "output_type": "stream",
          "text": [
            "Using TensorFlow backend.\n"
          ],
          "name": "stderr"
        },
        {
          "output_type": "stream",
          "text": [
            "1.13.1\n",
            "2.0.6\n"
          ],
          "name": "stdout"
        }
      ]
    },
    {
      "metadata": {
        "id": "bCBjKHmzG931",
        "colab_type": "text"
      },
      "cell_type": "markdown",
      "source": [
        "# Fill in your Coursera token and email\n",
        "To successfully submit your answers to our grader, please fill in your Coursera submission token and email"
      ]
    },
    {
      "metadata": {
        "id": "9RUSUOODG933",
        "colab_type": "code",
        "colab": {}
      },
      "cell_type": "code",
      "source": [
        "grader = grading.Grader(assignment_key=\"s1B1I5DuEeeyLAqI7dCYkg\", \n",
        "                        all_parts=[\"7W4tu\", \"nQOsg\", \"96eco\"])"
      ],
      "execution_count": 0,
      "outputs": []
    },
    {
      "metadata": {
        "id": "CDcTTSFeG936",
        "colab_type": "code",
        "colab": {}
      },
      "cell_type": "code",
      "source": [
        "# token expires every 30 min\n",
        "COURSERA_TOKEN = \"iTf9GTeqCisElt4K\"\n",
        "COURSERA_EMAIL = \"bodavijay24@gmail.com\""
      ],
      "execution_count": 0,
      "outputs": []
    },
    {
      "metadata": {
        "id": "SwUqIW4vG939",
        "colab_type": "text"
      },
      "cell_type": "markdown",
      "source": [
        "# Load dataset"
      ]
    },
    {
      "metadata": {
        "ExecuteTime": {
          "end_time": "2017-09-03T23:44:40.870302Z",
          "start_time": "2017-09-03T23:44:39.221603Z"
        },
        "id": "nRd2gaJCG94B",
        "colab_type": "code",
        "colab": {}
      },
      "cell_type": "code",
      "source": [
        "from keras.datasets import cifar10\n",
        "(x_train, y_train), (x_test, y_test) = cifar10.load_data()"
      ],
      "execution_count": 0,
      "outputs": []
    },
    {
      "metadata": {
        "ExecuteTime": {
          "end_time": "2017-09-04T00:27:41.648291Z",
          "start_time": "2017-09-04T00:27:41.644322Z"
        },
        "id": "Y4Fd1s00G94F",
        "colab_type": "code",
        "colab": {
          "base_uri": "https://localhost:8080/",
          "height": 51
        },
        "outputId": "57c62159-dbc2-47eb-e8a6-099dd7d9742c"
      },
      "cell_type": "code",
      "source": [
        "print(\"Train samples:\", x_train.shape, y_train.shape)\n",
        "print(\"Test samples:\", x_test.shape, y_test.shape)"
      ],
      "execution_count": 8,
      "outputs": [
        {
          "output_type": "stream",
          "text": [
            "Train samples: (50000, 32, 32, 3) (50000, 1)\n",
            "Test samples: (10000, 32, 32, 3) (10000, 1)\n"
          ],
          "name": "stdout"
        }
      ]
    },
    {
      "metadata": {
        "ExecuteTime": {
          "end_time": "2017-09-03T23:44:41.009639Z",
          "start_time": "2017-09-03T23:44:40.877013Z"
        },
        "id": "ad4MopmzG94J",
        "colab_type": "code",
        "colab": {}
      },
      "cell_type": "code",
      "source": [
        "NUM_CLASSES = 10\n",
        "cifar10_classes = [\"airplane\", \"automobile\", \"bird\", \"cat\", \"deer\", \n",
        "                   \"dog\", \"frog\", \"horse\", \"ship\", \"truck\"]"
      ],
      "execution_count": 0,
      "outputs": []
    },
    {
      "metadata": {
        "ExecuteTime": {
          "end_time": "2017-09-03T23:44:42.285830Z",
          "start_time": "2017-09-03T23:44:41.011216Z"
        },
        "id": "C6zTiumLG94O",
        "colab_type": "code",
        "colab": {
          "base_uri": "https://localhost:8080/",
          "height": 322
        },
        "outputId": "78a3ea49-e1a0-493b-9165-a047236446e7"
      },
      "cell_type": "code",
      "source": [
        "# show random images from train\n",
        "cols = 8\n",
        "rows = 2\n",
        "fig = plt.figure(figsize=(2 * cols - 1, 2.5 * rows - 1))\n",
        "for i in range(cols):\n",
        "    for j in range(rows):\n",
        "        random_index = np.random.randint(0, len(y_train))\n",
        "        ax = fig.add_subplot(rows, cols, i * rows + j + 1)\n",
        "        ax.grid('off')\n",
        "        ax.axis('off')\n",
        "        ax.imshow(x_train[random_index, :])\n",
        "        ax.set_title(cifar10_classes[y_train[random_index, 0]])\n",
        "plt.show()"
      ],
      "execution_count": 10,
      "outputs": [
        {
          "output_type": "stream",
          "text": [
            "/usr/local/lib/python3.6/dist-packages/matplotlib/cbook/__init__.py:424: MatplotlibDeprecationWarning: \n",
            "Passing one of 'on', 'true', 'off', 'false' as a boolean is deprecated; use an actual boolean (True/False) instead.\n",
            "  warn_deprecated(\"2.2\", \"Passing one of 'on', 'true', 'off', 'false' as a \"\n"
          ],
          "name": "stderr"
        },
        {
          "output_type": "display_data",
          "data": {
            "image/png": "[encoded data removed]",
            "text/plain": [
              "<Figure size 1080x288 with 16 Axes>"
            ]
          },
          "metadata": {
            "tags": []
          }
        }
      ]
    },
    {
      "metadata": {
        "id": "x5LChuieG94R",
        "colab_type": "text"
      },
      "cell_type": "markdown",
      "source": [
        "# Prepare data"
      ]
    },
    {
      "metadata": {
        "id": "vVUTZJuJG94S",
        "colab_type": "text"
      },
      "cell_type": "markdown",
      "source": [
        "We need to normalize inputs like this: $$x_{norm} = \\frac{x}{255} - 0.5$$\n",
        "\n",
        "We need to convert class labels to one-hot encoded vectors. Use __keras.utils.to_categorical__."
      ]
    },
    {
      "metadata": {
        "ExecuteTime": {
          "end_time": "2017-09-04T00:25:55.504781Z",
          "start_time": "2017-09-04T00:25:55.500823Z"
        },
        "id": "YPNhEFQHG94U",
        "colab_type": "code",
        "colab": {
          "base_uri": "https://localhost:8080/",
          "height": 34
        },
        "outputId": "85f3361c-2c8b-4fe5-851a-0cc8ae912962"
      },
      "cell_type": "code",
      "source": [
        "# normalize inputs\n",
        "x_train2 = (x_train/255)-0.5\n",
        "x_test2 = (x_test/255)-0.5\n",
        "\n",
        "# convert class labels to one-hot encoded, should have shape (?, NUM_CLASSES)\n",
        "y_train2 = keras.utils.to_categorical(y_train,10)\n",
        "y_test2 = keras.utils.to_categorical(y_test,10)\n",
        "\n",
        "\n",
        "print(y_train2.shape)"
      ],
      "execution_count": 56,
      "outputs": [
        {
          "output_type": "stream",
          "text": [
            "(50000, 10)\n"
          ],
          "name": "stdout"
        }
      ]
    },
    {
      "metadata": {
        "id": "4aFN0O99G94Z",
        "colab_type": "text"
      },
      "cell_type": "markdown",
      "source": [
        "# Define CNN architecture"
      ]
    },
    {
      "metadata": {
        "ExecuteTime": {
          "end_time": "2017-08-24T11:39:23.631230Z",
          "start_time": "2017-08-24T11:39:23.627975Z"
        },
        "id": "oFzGxj2TG94a",
        "colab_type": "code",
        "colab": {}
      },
      "cell_type": "code",
      "source": [
        "# import necessary building blocks\n",
        "from keras.models import Sequential\n",
        "from keras.layers import Conv2D, MaxPooling2D, Flatten, Dense, Activation, Dropout\n",
        "from keras.layers.advanced_activations import LeakyReLU"
      ],
      "execution_count": 0,
      "outputs": []
    },
    {
      "metadata": {
        "id": "oe85zuMiG94d",
        "colab_type": "text"
      },
      "cell_type": "markdown",
      "source": [
        "Convolutional networks are built from several types of layers:\n",
        "- [Conv2D](https://keras.io/layers/convolutional/#conv2d) - performs convolution:\n",
        "    - **filters**: number of output channels; \n",
        "    - **kernel_size**: an integer or tuple/list of 2 integers, specifying the width and height of the 2D convolution window;\n",
        "    - **padding**: padding=\"same\" adds zero padding to the input, so that the output has the same width and height, padding='valid' performs convolution only in locations where kernel and the input fully overlap;\n",
        "    - **activation**: \"relu\", \"tanh\", etc.\n",
        "    - **input_shape**: shape of input.\n",
        "- [MaxPooling2D](https://keras.io/layers/pooling/#maxpooling2d) - performs 2D max pooling.\n",
        "- [Flatten](https://keras.io/layers/core/#flatten) - flattens the input, does not affect the batch size.\n",
        "- [Dense](https://keras.io/layers/core/#dense) - fully-connected layer.\n",
        "- [Activation](https://keras.io/layers/core/#activation) - applies an activation function.\n",
        "- [LeakyReLU](https://keras.io/layers/advanced-activations/#leakyrelu) - applies leaky relu activation.\n",
        "- [Dropout](https://keras.io/layers/core/#dropout) - applies dropout."
      ]
    },
    {
      "metadata": {
        "ExecuteTime": {
          "end_time": "2017-09-03T23:48:59.567910Z",
          "start_time": "2017-09-03T23:48:59.564449Z"
        },
        "id": "ysMP6QXYG94e",
        "colab_type": "text"
      },
      "cell_type": "markdown",
      "source": [
        "You need to define a model which takes __(None, 32, 32, 3)__ input and predicts __(None, 10)__ output with probabilities for all classes. __None__ in shapes stands for batch dimension.\n",
        "\n",
        "Simple feed-forward networks in Keras can be defined in the following way:\n",
        "\n",
        "```python\n",
        "model = Sequential()  # start feed-forward model definition\n",
        "model.add(Conv2D(..., input_shape=(32, 32, 3)))  # first layer needs to define \"input_shape\"\n",
        "\n",
        "...  # here comes a bunch of convolutional, pooling and dropout layers\n",
        "\n",
        "model.add(Dense(NUM_CLASSES))  # the last layer with neuron for each class\n",
        "model.add(Activation(\"softmax\"))  # output probabilities\n",
        "```\n",
        "\n",
        "Stack __4__ convolutional layers with kernel size __(3, 3)__ with growing number of filters __(16, 32, 32, 64)__, use \"same\" padding.\n",
        "\n",
        "Add __2x2__ pooling layer after every 2 convolutional layers (conv-conv-pool scheme).\n",
        "\n",
        "Use __LeakyReLU__ activation with recommended parameter __0.1__ for all layers that need it (after convolutional and dense layers):\n",
        "```python\n",
        "model.add(LeakyReLU(0.1))\n",
        "```\n",
        "\n",
        "Add a dense layer with __256__ neurons and a second dense layer with __10__ neurons for classes. Remember to use __Flatten__ layer before first dense layer to reshape input volume into a flat vector!\n",
        "\n",
        "Add __Dropout__ after every pooling layer (__0.25__) and between dense layers (__0.5__)."
      ]
    },
    {
      "metadata": {
        "ExecuteTime": {
          "end_time": "2017-08-24T11:39:23.739649Z",
          "start_time": "2017-08-24T11:39:23.632558Z"
        },
        "id": "es_0OdLUG94g",
        "colab_type": "code",
        "colab": {}
      },
      "cell_type": "code",
      "source": [
        "def make_model():\n",
        "    \"\"\"\n",
        "    Define your model architecture here.\n",
        "    Returns `Sequential` model.\n",
        "    \"\"\"\n",
        "    model = Sequential()\n",
        "    model.add(Conv2D(16,input_shape=x_train2.shape[1:], kernel_size=(3,3), padding='same'))\n",
        "    model.add(LeakyReLU(0.1))\n",
        "    \n",
        "    model.add(Conv2D(32, (3, 3),padding='same'))\n",
        "    model.add(LeakyReLU(0.1))\n",
        "    model.add(MaxPooling2D(pool_size=(2, 2)))\n",
        "    model.add(Dropout(0.25))\n",
        "    \n",
        "    model.add(Conv2D(32, (3, 3),padding='same'))\n",
        "    model.add(LeakyReLU(0.1))\n",
        "    model.add(Conv2D(64, (3, 3),padding='same'))\n",
        "    model.add(LeakyReLU(0.1))\n",
        "    model.add(MaxPooling2D(pool_size=(2, 2)))\n",
        "    model.add(Dropout(0.25))\n",
        "              \n",
        "    model.add(Flatten())\n",
        "    model.add(Dense(256))\n",
        "    model.add(LeakyReLU(0.1))\n",
        "    model.add(Dropout(0.5))\n",
        "    model.add(Dense(10))\n",
        "    model.add(Activation('softmax'))\n",
        "    \n",
        "    return model"
      ],
      "execution_count": 0,
      "outputs": []
    },
    {
      "metadata": {
        "ExecuteTime": {
          "end_time": "2017-08-24T11:39:23.948546Z",
          "start_time": "2017-08-24T11:39:23.741012Z"
        },
        "id": "QIcfLzOtG94j",
        "colab_type": "code",
        "colab": {
          "base_uri": "https://localhost:8080/",
          "height": 748
        },
        "outputId": "24196cf0-38d6-4809-ce6e-178ce5b99cc5"
      },
      "cell_type": "code",
      "source": [
        "# describe model\n",
        "s = reset_tf_session()  # clear default graph\n",
        "model = make_model()\n",
        "model.summary()"
      ],
      "execution_count": 42,
      "outputs": [
        {
          "output_type": "stream",
          "text": [
            "_________________________________________________________________\n",
            "Layer (type)                 Output Shape              Param #   \n",
            "=================================================================\n",
            "conv2d_1 (Conv2D)            (None, 32, 32, 16)        448       \n",
            "_________________________________________________________________\n",
            "leaky_re_lu_1 (LeakyReLU)    (None, 32, 32, 16)        0         \n",
            "_________________________________________________________________\n",
            "conv2d_2 (Conv2D)            (None, 32, 32, 32)        4640      \n",
            "_________________________________________________________________\n",
            "leaky_re_lu_2 (LeakyReLU)    (None, 32, 32, 32)        0         \n",
            "_________________________________________________________________\n",
            "max_pooling2d_1 (MaxPooling2 (None, 16, 16, 32)        0         \n",
            "_________________________________________________________________\n",
            "dropout_1 (Dropout)          (None, 16, 16, 32)        0         \n",
            "_________________________________________________________________\n",
            "conv2d_3 (Conv2D)            (None, 16, 16, 32)        9248      \n",
            "_________________________________________________________________\n",
            "leaky_re_lu_3 (LeakyReLU)    (None, 16, 16, 32)        0         \n",
            "_________________________________________________________________\n",
            "conv2d_4 (Conv2D)            (None, 16, 16, 64)        18496     \n",
            "_________________________________________________________________\n",
            "leaky_re_lu_4 (LeakyReLU)    (None, 16, 16, 64)        0         \n",
            "_________________________________________________________________\n",
            "max_pooling2d_2 (MaxPooling2 (None, 8, 8, 64)          0         \n",
            "_________________________________________________________________\n",
            "dropout_2 (Dropout)          (None, 8, 8, 64)          0         \n",
            "_________________________________________________________________\n",
            "flatten_1 (Flatten)          (None, 4096)              0         \n",
            "_________________________________________________________________\n",
            "dense_1 (Dense)              (None, 256)               1048832   \n",
            "_________________________________________________________________\n",
            "leaky_re_lu_5 (LeakyReLU)    (None, 256)               0         \n",
            "_________________________________________________________________\n",
            "dropout_3 (Dropout)          (None, 256)               0         \n",
            "_________________________________________________________________\n",
            "dense_2 (Dense)              (None, 10)                2570      \n",
            "_________________________________________________________________\n",
            "activation_1 (Activation)    (None, 10)                0         \n",
            "=================================================================\n",
            "Total params: 1,084,234\n",
            "Trainable params: 1,084,234\n",
            "Non-trainable params: 0\n",
            "_________________________________________________________________\n"
          ],
          "name": "stdout"
        }
      ]
    },
    {
      "metadata": {
        "id": "MV9eD58jG94q",
        "colab_type": "code",
        "colab": {}
      },
      "cell_type": "code",
      "source": [
        "## GRADED PART, DO NOT CHANGE!\n",
        "# Number of model parameters\n",
        "grader.set_answer(\"7W4tu\", grading_utils.model_total_params(model))"
      ],
      "execution_count": 0,
      "outputs": []
    },
    {
      "metadata": {
        "id": "00eAGy0dG94v",
        "colab_type": "code",
        "colab": {
          "base_uri": "https://localhost:8080/",
          "height": 34
        },
        "outputId": "717b9c0d-9748-40b1-a4fa-325b3dfb1f66"
      },
      "cell_type": "code",
      "source": [
        "# you can make submission with answers so far to check yourself at this stage\n",
        "grader.submit(COURSERA_EMAIL, COURSERA_TOKEN)"
      ],
      "execution_count": 44,
      "outputs": [
        {
          "output_type": "stream",
          "text": [
            "Submitted to Coursera platform. See results on assignment page!\n"
          ],
          "name": "stdout"
        }
      ]
    },
    {
      "metadata": {
        "id": "ZQND9p0AG947",
        "colab_type": "text"
      },
      "cell_type": "markdown",
      "source": [
        "# Train model"
      ]
    },
    {
      "metadata": {
        "id": "MxpJdS27G948",
        "colab_type": "text"
      },
      "cell_type": "markdown",
      "source": [
        "Training of your model can take approx. 4-8 minutes per epoch.\n",
        "\n",
        "During training you should observe the decrease in reported loss on training and validation.\n",
        "\n",
        "If the loss on training is not decreasing with epochs you should revise your model definition and learning rate."
      ]
    },
    {
      "metadata": {
        "ExecuteTime": {
          "end_time": "2017-08-24T12:18:39.059726Z",
          "start_time": "2017-08-24T11:39:23.949926Z"
        },
        "id": "ZoX8291dG94_",
        "colab_type": "code",
        "colab": {}
      },
      "cell_type": "code",
      "source": [
        "INIT_LR = 5e-3  # initial learning rate\n",
        "BATCH_SIZE = 32\n",
        "EPOCHS = 10\n",
        "\n",
        "s = reset_tf_session()  # clear default graph\n",
        "# don't call K.set_learning_phase() !!! (otherwise will enable dropout in train/test simultaneously)\n",
        "model = make_model()  # define our model\n",
        "\n",
        "# prepare model for fitting (loss, optimizer, etc)\n",
        "model.compile(\n",
        "    loss='categorical_crossentropy',  # we train 10-way classification\n",
        "    optimizer=keras.optimizers.adamax(lr=INIT_LR),  # for SGD\n",
        "    metrics=['accuracy']  # report accuracy during training\n",
        ")\n",
        "\n",
        "# scheduler of learning rate (decay with epochs)\n",
        "def lr_scheduler(epoch):\n",
        "    return INIT_LR * 0.9 ** epoch\n",
        "\n",
        "# callback for printing of actual learning rate used by optimizer\n",
        "class LrHistory(keras.callbacks.Callback):\n",
        "    def on_epoch_begin(self, epoch, logs={}):\n",
        "        print(\"Learning rate:\", K.get_value(model.optimizer.lr))"
      ],
      "execution_count": 0,
      "outputs": []
    },
    {
      "metadata": {
        "id": "4hlbGjcsG95G",
        "colab_type": "text"
      },
      "cell_type": "markdown",
      "source": [
        "Training takes approximately **1.5 hours**. You're aiming for ~0.80 validation accuracy."
      ]
    },
    {
      "metadata": {
        "id": "D48-mcanG95H",
        "colab_type": "code",
        "colab": {}
      },
      "cell_type": "code",
      "source": [
        "# we will save model checkpoints to continue training in case of kernel death\n",
        "model_filename = 'cifar.{0:03d}.hdf5'\n",
        "last_finished_epoch = None\n",
        "\n",
        "#### uncomment below to continue training from model checkpoint\n",
        "#### fill `last_finished_epoch` with your latest finished epoch\n",
        "# from keras.models import load_model\n",
        "# s = reset_tf_session()\n",
        "# last_finished_epoch = 7\n",
        "# model = load_model(model_filename.format(last_finished_epoch))"
      ],
      "execution_count": 0,
      "outputs": []
    },
    {
      "metadata": {
        "ExecuteTime": {
          "end_time": "2017-08-24T12:18:39.059726Z",
          "start_time": "2017-08-24T11:39:23.949926Z"
        },
        "scrolled": false,
        "id": "HFUGUWwpG95M",
        "colab_type": "code",
        "colab": {
          "base_uri": "https://localhost:8080/",
          "height": 1125
        },
        "outputId": "0f95d5f0-ea1a-4648-f9c5-3999a58a382d"
      },
      "cell_type": "code",
      "source": [
        "# fit model\n",
        "model.fit(\n",
        "    x_train2, y_train2,  # prepared data\n",
        "    batch_size=BATCH_SIZE,\n",
        "    epochs=EPOCHS,\n",
        "    callbacks=[keras.callbacks.LearningRateScheduler(lr_scheduler), \n",
        "               LrHistory(), \n",
        "               keras_utils.TqdmProgressCallback(),\n",
        "               keras_utils.ModelSaveCallback(model_filename)],\n",
        "    validation_data=(x_test2, y_test2),\n",
        "    shuffle=True,\n",
        "    verbose=0,\n",
        "    initial_epoch=last_finished_epoch or 0\n",
        ")"
      ],
      "execution_count": 59,
      "outputs": [
        {
          "output_type": "stream",
          "text": [
            "WARNING:tensorflow:From /usr/local/lib/python3.6/dist-packages/tensorflow/python/ops/math_ops.py:3066: to_int32 (from tensorflow.python.ops.math_ops) is deprecated and will be removed in a future version.\n",
            "Instructions for updating:\n",
            "Use tf.cast instead.\n",
            "Learning rate: 0.005\n",
            "\n",
            "Epoch 1/10\n",
            "**************************************************\n",
            "loss: 1.3534; acc: 0.5140; val_loss: 1.0121; val_acc: 0.6394\n",
            "Model saved in cifar.000.hdf5\n",
            "Learning rate: 0.0045\n",
            "\n",
            "Epoch 2/10\n",
            "**************************************************\n",
            "loss: 0.9618; acc: 0.6614; val_loss: 0.8837; val_acc: 0.6968\n",
            "Model saved in cifar.001.hdf5\n",
            "Learning rate: 0.00405\n",
            "\n",
            "Epoch 3/10\n",
            "**************************************************\n",
            "loss: 0.8196; acc: 0.7133; val_loss: 0.7650; val_acc: 0.7315\n",
            "Model saved in cifar.002.hdf5\n",
            "Learning rate: 0.003645\n",
            "\n",
            "Epoch 4/10\n",
            "**************************************************\n",
            "loss: 0.7358; acc: 0.7436; val_loss: 0.7018; val_acc: 0.7590\n",
            "Model saved in cifar.003.hdf5\n",
            "Learning rate: 0.0032805\n",
            "\n",
            "Epoch 5/10\n",
            "**************************************************\n",
            "loss: 0.6725; acc: 0.7644; val_loss: 0.6957; val_acc: 0.7597\n",
            "Model saved in cifar.004.hdf5\n",
            "Learning rate: 0.00295245\n",
            "\n",
            "Epoch 6/10\n",
            "**************************************************\n",
            "loss: 0.6162; acc: 0.7842; val_loss: 0.6901; val_acc: 0.7669\n",
            "Model saved in cifar.005.hdf5\n",
            "Learning rate: 0.002657205\n",
            "\n",
            "Epoch 7/10\n",
            "**************************************************\n",
            "loss: 0.5809; acc: 0.7953; val_loss: 0.6462; val_acc: 0.7810\n",
            "Model saved in cifar.006.hdf5\n",
            "Learning rate: 0.0023914846\n",
            "\n",
            "Epoch 8/10\n",
            "**************************************************\n",
            "loss: 0.5410; acc: 0.8108; val_loss: 0.6200; val_acc: 0.7854\n",
            "Model saved in cifar.007.hdf5\n",
            "Learning rate: 0.002152336\n",
            "\n",
            "Epoch 9/10\n",
            "**************************************************\n",
            "loss: 0.5168; acc: 0.8179; val_loss: 0.6496; val_acc: 0.7888\n",
            "Model saved in cifar.008.hdf5\n",
            "Learning rate: 0.0019371024\n",
            "\n",
            "Epoch 10/10\n",
            "**************************************************\n",
            "loss: 0.4896; acc: 0.8272; val_loss: 0.6230; val_acc: 0.7971\n",
            "Model saved in cifar.009.hdf5\n"
          ],
          "name": "stdout"
        },
        {
          "output_type": "execute_result",
          "data": {
            "text/plain": [
              "<keras.callbacks.History at 0x7f962e47c5c0>"
            ]
          },
          "metadata": {
            "tags": []
          },
          "execution_count": 59
        }
      ]
    },
    {
      "metadata": {
        "ExecuteTime": {
          "end_time": "2017-08-24T12:18:39.103672Z",
          "start_time": "2017-08-24T12:18:39.061508Z"
        },
        "id": "hEBhcCttG95Q",
        "colab_type": "code",
        "colab": {}
      },
      "cell_type": "code",
      "source": [
        "# save weights to file\n",
        "model.save_weights(\"weights.h5\")"
      ],
      "execution_count": 0,
      "outputs": []
    },
    {
      "metadata": {
        "ExecuteTime": {
          "end_time": "2017-08-24T12:18:39.298255Z",
          "start_time": "2017-08-24T12:18:39.105314Z"
        },
        "id": "NsGhO7OSG95T",
        "colab_type": "code",
        "colab": {}
      },
      "cell_type": "code",
      "source": [
        "# load weights from file (can call without model.fit)\n",
        "model.load_weights(\"weights.h5\")"
      ],
      "execution_count": 0,
      "outputs": []
    },
    {
      "metadata": {
        "id": "wRmFa_U_G95Y",
        "colab_type": "text"
      },
      "cell_type": "markdown",
      "source": [
        "# Evaluate model"
      ]
    },
    {
      "metadata": {
        "ExecuteTime": {
          "end_time": "2017-08-24T12:18:53.381943Z",
          "start_time": "2017-08-24T12:18:39.299830Z"
        },
        "id": "Hef4kUw8G95Z",
        "colab_type": "code",
        "colab": {
          "base_uri": "https://localhost:8080/",
          "height": 34
        },
        "outputId": "250ba866-eb68-469b-dcf6-7b50897cc01d"
      },
      "cell_type": "code",
      "source": [
        "# make test predictions\n",
        "y_pred_test = model.predict_proba(x_test2)\n",
        "y_pred_test_classes = np.argmax(y_pred_test, axis=1)\n",
        "y_pred_test_max_probas = np.max(y_pred_test, axis=1)"
      ],
      "execution_count": 63,
      "outputs": [
        {
          "output_type": "stream",
          "text": [
            " 9984/10000 [============================>.] - ETA: 0s"
          ],
          "name": "stdout"
        }
      ]
    },
    {
      "metadata": {
        "ExecuteTime": {
          "end_time": "2017-08-24T12:18:54.293970Z",
          "start_time": "2017-08-24T12:18:53.383809Z"
        },
        "id": "0JKJn-CFG95c",
        "colab_type": "code",
        "colab": {
          "base_uri": "https://localhost:8080/",
          "height": 435
        },
        "outputId": "e7bda046-782e-4152-cea6-33dcd4c050cb"
      },
      "cell_type": "code",
      "source": [
        "# confusion matrix and accuracy\n",
        "from sklearn.metrics import confusion_matrix, accuracy_score\n",
        "plt.figure(figsize=(7, 6))\n",
        "plt.title('Confusion matrix', fontsize=16)\n",
        "plt.imshow(confusion_matrix(y_test, y_pred_test_classes))\n",
        "plt.xticks(np.arange(10), cifar10_classes, rotation=45, fontsize=12)\n",
        "plt.yticks(np.arange(10), cifar10_classes, fontsize=12)\n",
        "plt.colorbar()\n",
        "plt.show()\n",
        "print(\"Test accuracy:\", accuracy_score(y_test, y_pred_test_classes))"
      ],
      "execution_count": 64,
      "outputs": [
        {
          "output_type": "display_data",
          "data": {
            "image/png": "[encoded data removed]",
            "text/plain": [
              "<Figure size 504x432 with 2 Axes>"
            ]
          },
          "metadata": {
            "tags": []
          }
        },
        {
          "output_type": "stream",
          "text": [
            "Test accuracy: 0.7971\n"
          ],
          "name": "stdout"
        }
      ]
    },
    {
      "metadata": {
        "id": "OUE0pfUvG95g",
        "colab_type": "code",
        "colab": {}
      },
      "cell_type": "code",
      "source": [
        "## GRADED PART, DO NOT CHANGE!\n",
        "# Accuracy on validation data\n",
        "grader.set_answer(\"nQOsg\", accuracy_score(y_test, y_pred_test_classes))"
      ],
      "execution_count": 0,
      "outputs": []
    },
    {
      "metadata": {
        "id": "WhREhuXnG95k",
        "colab_type": "code",
        "colab": {
          "base_uri": "https://localhost:8080/",
          "height": 34
        },
        "outputId": "1367f9a1-62fa-43fb-95eb-e7bb46cfccd0"
      },
      "cell_type": "code",
      "source": [
        "# you can make submission with answers so far to check yourself at this stage\n",
        "grader.submit(COURSERA_EMAIL, COURSERA_TOKEN)"
      ],
      "execution_count": 67,
      "outputs": [
        {
          "output_type": "stream",
          "text": [
            "Submitted to Coursera platform. See results on assignment page!\n"
          ],
          "name": "stdout"
        }
      ]
    },
    {
      "metadata": {
        "ExecuteTime": {
          "end_time": "2017-08-24T12:18:55.568152Z",
          "start_time": "2017-08-24T12:18:54.295958Z"
        },
        "id": "vJdafFcaG95o",
        "colab_type": "code",
        "colab": {}
      },
      "cell_type": "code",
      "source": [
        "# inspect preditions\n",
        "cols = 8\n",
        "rows = 2\n",
        "fig = plt.figure(figsize=(2 * cols - 1, 3 * rows - 1))\n",
        "for i in range(cols):\n",
        "    for j in range(rows):\n",
        "        random_index = np.random.randint(0, len(y_test))\n",
        "        ax = fig.add_subplot(rows, cols, i * rows + j + 1)\n",
        "        ax.grid('off')\n",
        "        ax.axis('off')\n",
        "        ax.imshow(x_test[random_index, :])\n",
        "        pred_label = cifar10_classes[y_pred_test_classes[random_index]]\n",
        "        pred_proba = y_pred_test_max_probas[random_index]\n",
        "        true_label = cifar10_classes[y_test[random_index, 0]]\n",
        "        ax.set_title(\"pred: {}\\nscore: {:.3}\\ntrue: {}\".format(\n",
        "               pred_label, pred_proba, true_label\n",
        "        ))\n",
        "plt.show()"
      ],
      "execution_count": 0,
      "outputs": []
    },
    {
      "metadata": {
        "id": "ZLr_Hkt-G95t",
        "colab_type": "text"
      },
      "cell_type": "markdown",
      "source": [
        "# Visualize maximum stimuli"
      ]
    },
    {
      "metadata": {
        "id": "daPQKPVjG95u",
        "colab_type": "text"
      },
      "cell_type": "markdown",
      "source": [
        "We want to find input images that provide maximum activations for particular layers of our network. \n",
        "\n",
        "We will find those maximum stimuli via gradient ascent in image space.\n",
        "\n",
        "For that task we load our model weights, calculate the layer output gradient with respect to image input and shift input image in that direction."
      ]
    },
    {
      "metadata": {
        "ExecuteTime": {
          "end_time": "2017-08-24T13:23:59.462081Z",
          "start_time": "2017-08-24T13:23:58.896876Z"
        },
        "id": "C1Jzm1FiG95w",
        "colab_type": "code",
        "colab": {}
      },
      "cell_type": "code",
      "source": [
        "s = reset_tf_session()  # clear default graph\n",
        "K.set_learning_phase(0)  # disable dropout\n",
        "model = make_model()\n",
        "model.load_weights(\"weights.h5\")  # that were saved after model.fit"
      ],
      "execution_count": 0,
      "outputs": []
    },
    {
      "metadata": {
        "ExecuteTime": {
          "end_time": "2017-08-24T13:24:00.360163Z",
          "start_time": "2017-08-24T13:24:00.351539Z"
        },
        "id": "UVJIeR7KG952",
        "colab_type": "code",
        "colab": {
          "base_uri": "https://localhost:8080/",
          "height": 748
        },
        "outputId": "9109bbb2-84c8-4b3c-d296-0a413975fec7"
      },
      "cell_type": "code",
      "source": [
        "# all weights we have\n",
        "model.summary()"
      ],
      "execution_count": 69,
      "outputs": [
        {
          "output_type": "stream",
          "text": [
            "_________________________________________________________________\n",
            "Layer (type)                 Output Shape              Param #   \n",
            "=================================================================\n",
            "conv2d_1 (Conv2D)            (None, 32, 32, 16)        448       \n",
            "_________________________________________________________________\n",
            "leaky_re_lu_1 (LeakyReLU)    (None, 32, 32, 16)        0         \n",
            "_________________________________________________________________\n",
            "conv2d_2 (Conv2D)            (None, 32, 32, 32)        4640      \n",
            "_________________________________________________________________\n",
            "leaky_re_lu_2 (LeakyReLU)    (None, 32, 32, 32)        0         \n",
            "_________________________________________________________________\n",
            "max_pooling2d_1 (MaxPooling2 (None, 16, 16, 32)        0         \n",
            "_________________________________________________________________\n",
            "dropout_1 (Dropout)          (None, 16, 16, 32)        0         \n",
            "_________________________________________________________________\n",
            "conv2d_3 (Conv2D)            (None, 16, 16, 32)        9248      \n",
            "_________________________________________________________________\n",
            "leaky_re_lu_3 (LeakyReLU)    (None, 16, 16, 32)        0         \n",
            "_________________________________________________________________\n",
            "conv2d_4 (Conv2D)            (None, 16, 16, 64)        18496     \n",
            "_________________________________________________________________\n",
            "leaky_re_lu_4 (LeakyReLU)    (None, 16, 16, 64)        0         \n",
            "_________________________________________________________________\n",
            "max_pooling2d_2 (MaxPooling2 (None, 8, 8, 64)          0         \n",
            "_________________________________________________________________\n",
            "dropout_2 (Dropout)          (None, 8, 8, 64)          0         \n",
            "_________________________________________________________________\n",
            "flatten_1 (Flatten)          (None, 4096)              0         \n",
            "_________________________________________________________________\n",
            "dense_1 (Dense)              (None, 256)               1048832   \n",
            "_________________________________________________________________\n",
            "leaky_re_lu_5 (LeakyReLU)    (None, 256)               0         \n",
            "_________________________________________________________________\n",
            "dropout_3 (Dropout)          (None, 256)               0         \n",
            "_________________________________________________________________\n",
            "dense_2 (Dense)              (None, 10)                2570      \n",
            "_________________________________________________________________\n",
            "activation_1 (Activation)    (None, 10)                0         \n",
            "=================================================================\n",
            "Total params: 1,084,234\n",
            "Trainable params: 1,084,234\n",
            "Non-trainable params: 0\n",
            "_________________________________________________________________\n"
          ],
          "name": "stdout"
        }
      ]
    },
    {
      "metadata": {
        "ExecuteTime": {
          "end_time": "2017-09-09T19:26:28.647877Z",
          "start_time": "2017-09-09T19:26:28.587968Z"
        },
        "id": "C-6qrYt3G956",
        "colab_type": "code",
        "colab": {}
      },
      "cell_type": "code",
      "source": [
        "def find_maximum_stimuli(layer_name, is_conv, filter_index, model, iterations=20, step=1., verbose=True):\n",
        "    \n",
        "    def image_values_to_rgb(x):\n",
        "        # normalize x: center on 0 (np.mean(x_train2)), ensure std is 0.25 (np.std(x_train2))\n",
        "        # so that it looks like a normalized image input for our network\n",
        "        mean = np.mean(x_train2) ### YOUR CODE HERE\n",
        "        std=np.std(x_train2)\n",
        "        \n",
        "        x_norm=(x-mean)/std\n",
        "\n",
        "        # do reverse normalization to RGB values: x = (x_norm + 0.5) * 255\n",
        "        x = (x_norm+ 0.5) * 255 ### YOUR CODE HERE\n",
        "    \n",
        "        # clip values to [0, 255] and convert to bytes\n",
        "        x = np.clip(x, 0, 255).astype('uint8')\n",
        "        return x\n",
        "\n",
        "    # this is the placeholder for the input image\n",
        "    input_img = model.input\n",
        "    img_width, img_height = input_img.shape.as_list()[1:3]\n",
        "    \n",
        "    # find the layer output by name\n",
        "    layer_output = list(filter(lambda x: x.name == layer_name, model.layers))[0].output\n",
        "\n",
        "    # we build a loss function that maximizes the activation\n",
        "    # of the filter_index filter of the layer considered\n",
        "    if is_conv:\n",
        "        # mean over feature map values for convolutional layer\n",
        "        loss = K.mean(layer_output[:, :, :, filter_index])\n",
        "    else:\n",
        "        loss = K.mean(layer_output[:, filter_index])\n",
        "\n",
        "    # we compute the gradient of the loss wrt input image\n",
        "    grads = K.gradients(loss, input_img)[0]  # [0] because of the batch dimension!\n",
        "\n",
        "    # normalization trick: we normalize the gradient\n",
        "    grads = grads / (K.sqrt(K.sum(K.square(grads))) + 1e-10)\n",
        "\n",
        "    # this function returns the loss and grads given the input picture\n",
        "    iterate = K.function([input_img], [loss, grads])\n",
        "\n",
        "    # we start from a gray image with some random noise\n",
        "    input_img_data = np.random.random((1, img_width, img_height, 3))\n",
        "    input_img_data = (input_img_data - 0.5) * (0.1 if is_conv else 0.001)\n",
        "\n",
        "    # we run gradient ascent\n",
        "    for i in range(iterations):\n",
        "        loss_value, grads_value = iterate([input_img_data])\n",
        "        input_img_data += grads_value * step\n",
        "        if verbose:\n",
        "            print('Current loss value:', loss_value)\n",
        "\n",
        "    # decode the resulting input image\n",
        "    img = image_values_to_rgb(input_img_data[0])\n",
        "    \n",
        "    return img, loss_value"
      ],
      "execution_count": 0,
      "outputs": []
    },
    {
      "metadata": {
        "ExecuteTime": {
          "end_time": "2017-08-24T13:32:09.846317Z",
          "start_time": "2017-08-24T13:32:09.815734Z"
        },
        "id": "5kIYQXL7G959",
        "colab_type": "code",
        "colab": {}
      },
      "cell_type": "code",
      "source": [
        "# sample maximum stimuli\n",
        "def plot_filters_stimuli(layer_name, is_conv, model, iterations=20, step=1., verbose=False):\n",
        "    cols = 8\n",
        "    rows = 2\n",
        "    filter_index = 0\n",
        "    max_filter_index = list(filter(lambda x: x.name == layer_name, model.layers))[0].output.shape.as_list()[-1] - 1\n",
        "    fig = plt.figure(figsize=(2 * cols - 1, 3 * rows - 1))\n",
        "    for i in range(cols):\n",
        "        for j in range(rows):\n",
        "            if filter_index <= max_filter_index:\n",
        "                ax = fig.add_subplot(rows, cols, i * rows + j + 1)\n",
        "                ax.grid('off')\n",
        "                ax.axis('off')\n",
        "                loss = -1e20\n",
        "                while loss < 0 and filter_index <= max_filter_index:\n",
        "                    stimuli, loss = find_maximum_stimuli(layer_name, is_conv, filter_index, model,\n",
        "                                                         iterations, step, verbose=verbose)\n",
        "                    filter_index += 1\n",
        "                if loss > 0:\n",
        "                    ax.imshow(stimuli)\n",
        "                    ax.set_title(\"Filter #{}\".format(filter_index))\n",
        "    plt.show()"
      ],
      "execution_count": 0,
      "outputs": []
    },
    {
      "metadata": {
        "ExecuteTime": {
          "end_time": "2017-09-09T22:11:24.717347Z",
          "start_time": "2017-09-09T22:11:24.652428Z"
        },
        "id": "Pie1qea7G95_",
        "colab_type": "code",
        "colab": {}
      },
      "cell_type": "code",
      "source": [
        "# maximum stimuli for convolutional neurons\n",
        "conv_activation_layers = []\n",
        "for layer in model.layers:\n",
        "    if isinstance(layer, LeakyReLU):\n",
        "        prev_layer = layer.inbound_nodes[0].inbound_layers[0]\n",
        "        if isinstance(prev_layer, Conv2D):\n",
        "            conv_activation_layers.append(layer)\n",
        "\n",
        "for layer in conv_activation_layers:\n",
        "    print(layer.name)\n",
        "    plot_filters_stimuli(layer_name=layer.name, is_conv=True, model=model)"
      ],
      "execution_count": 0,
      "outputs": []
    },
    {
      "metadata": {
        "id": "c9UsNUj9G96C",
        "colab_type": "code",
        "colab": {
          "base_uri": "https://localhost:8080/",
          "height": 351
        },
        "outputId": "0f9cb295-b1cf-461e-8f6b-63bd08ba0069"
      },
      "cell_type": "code",
      "source": [
        "# maximum stimuli for last dense layer\n",
        "last_dense_layer = list(filter(lambda x: isinstance(x, Dense), model.layers))[-1]\n",
        "plot_filters_stimuli(layer_name=last_dense_layer.name, is_conv=False, \n",
        "                     iterations=200, step=0.1, model=model)"
      ],
      "execution_count": 76,
      "outputs": [
        {
          "output_type": "stream",
          "text": [
            "/usr/local/lib/python3.6/dist-packages/matplotlib/cbook/__init__.py:424: MatplotlibDeprecationWarning: \n",
            "Passing one of 'on', 'true', 'off', 'false' as a boolean is deprecated; use an actual boolean (True/False) instead.\n",
            "  warn_deprecated(\"2.2\", \"Passing one of 'on', 'true', 'off', 'false' as a \"\n"
          ],
          "name": "stderr"
        },
        {
          "output_type": "display_data",
          "data": {
            "image/png": "[encoded data removed]",
            "text/plain": [
              "<Figure size 1080x360 with 10 Axes>"
            ]
          },
          "metadata": {
            "tags": []
          }
        }
      ]
    },
    {
      "metadata": {
        "id": "ziAhxnoHG96F",
        "colab_type": "code",
        "colab": {}
      },
      "cell_type": "code",
      "source": [
        "def maximum_stimuli_test_for_grader():\n",
        "    layer = list(filter(lambda x: isinstance(x, Dense), model.layers))[-1]\n",
        "    output_index = 7\n",
        "    stimuli, loss = find_maximum_stimuli(\n",
        "        layer_name=layer.name, \n",
        "        is_conv=False, \n",
        "        filter_index=output_index,\n",
        "        model=model,\n",
        "        verbose=False\n",
        "    )\n",
        "    return model.predict_proba(stimuli[np.newaxis, :])[0, output_index]"
      ],
      "execution_count": 0,
      "outputs": []
    },
    {
      "metadata": {
        "ExecuteTime": {
          "end_time": "2017-09-09T22:26:46.387162Z",
          "start_time": "2017-09-09T22:26:46.376735Z"
        },
        "id": "8FUj1Tk5G96J",
        "colab_type": "code",
        "colab": {
          "base_uri": "https://localhost:8080/",
          "height": 34
        },
        "outputId": "996ae2f0-5347-45a3-f233-f717885ba815"
      },
      "cell_type": "code",
      "source": [
        "## GRADED PART, DO NOT CHANGE!\n",
        "# Maximum stimuli test\n",
        "grader.set_answer(\"96eco\", maximum_stimuli_test_for_grader())"
      ],
      "execution_count": 78,
      "outputs": [
        {
          "output_type": "stream",
          "text": [
            "\r1/1 [==============================] - 0s\n"
          ],
          "name": "stdout"
        }
      ]
    },
    {
      "metadata": {
        "id": "6l8m4ANnG96M",
        "colab_type": "code",
        "colab": {
          "base_uri": "https://localhost:8080/",
          "height": 34
        },
        "outputId": "338e9459-3c58-4d65-f21a-73e220e87a75"
      },
      "cell_type": "code",
      "source": [
        "# you can make submission with answers so far to check yourself at this stage\n",
        "grader.submit(COURSERA_EMAIL, COURSERA_TOKEN)"
      ],
      "execution_count": 79,
      "outputs": [
        {
          "output_type": "stream",
          "text": [
            "Submitted to Coursera platform. See results on assignment page!\n"
          ],
          "name": "stdout"
        }
      ]
    },
    {
      "metadata": {
        "id": "BunCxm9cG96R",
        "colab_type": "text"
      },
      "cell_type": "markdown",
      "source": [
        "That's it! Congratulations!\n",
        "\n",
        "What you've done:\n",
        "- defined CNN architecture\n",
        "- trained your model\n",
        "- evaluated your model\n",
        "- visualised learnt filters"
      ]
    }
  ]
}